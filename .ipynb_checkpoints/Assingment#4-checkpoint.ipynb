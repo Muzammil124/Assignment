{
 "cells": [
  {
   "cell_type": "code",
   "execution_count": 1,
   "metadata": {},
   "outputs": [
    {
     "name": "stdout",
     "output_type": "stream",
     "text": [
      "{'first name': 'Muzammil', 'last name': 'Ahmed', 'age': 22, 'city': 'Karachi'}\n",
      "{'first name': 'Muzammil', 'last name': 'Ahmed', 'age': 22, 'city': 'Karachi', 'qualification': 'To be updated'}\n",
      "{'first name': 'Muzammil', 'last name': 'Ahmed', 'age': 22, 'city': 'Karachi', 'qualification': 'Inter'}\n",
      "{'first name': 'Muzammil', 'last name': 'Ahmed', 'age': 22, 'city': 'Karachi'}\n"
     ]
    }
   ],
   "source": [
    "myinfo = { \n",
    "    \"first name\": \"Muzammil\",\n",
    "    \"last name\" : \"Ahmed\",\n",
    "    \"age\"           : 22,\n",
    "    \"city\"          : \"Karachi\"\n",
    "}\n",
    "\n",
    "print(myinfo)\n",
    "\n",
    "myinfo[\"qualification\"] = \"To be updated\"\n",
    "print(myinfo)\n",
    "\n",
    "myinfo[\"qualification\"]= \"Inter\"\n",
    "print(myinfo)\n",
    "\n",
    "del myinfo[\"qualification\"]\n",
    "print(myinfo)"
   ]
  },
  {
   "cell_type": "code",
   "execution_count": 2,
   "metadata": {},
   "outputs": [
    {
     "name": "stdout",
     "output_type": "stream",
     "text": [
      "{'country': 'Pakistan', 'population': 11000000, 'fact': 'There are so many education sectors !'}\n",
      "{'country': 'England', 'population': 8900000, 'fact': \"It's a beautiful place !\"}\n",
      "{'country': 'India', 'population': 18000000, 'fact': 'It is technology hub !'}\n"
     ]
    }
   ],
   "source": [
    "cities = {\n",
    "    \"Lahore\" : {\"country\"      : \"Pakistan\" ,\n",
    "                              \"population\" : 11000000,\n",
    "                              \"fact\"            : \"There are so many education sectors !\"},\n",
    "    \n",
    "    \"London\"           : {\"country\"      : \"England\" ,\n",
    "                              \"population\" : 8900000,\n",
    "                              \"fact\"            : \"It's a beautiful place !\"},\n",
    "    \n",
    "    \"Dehli\"    : {\"country\"      : \"India\" ,\n",
    "                              \"population\" : 18000000,\n",
    "                              \"fact\"            : \"It is technology hub !\"}\n",
    "}\n",
    "\n",
    "print(cities[\"Lahore\"])\n",
    "print(cities[\"London\"])\n",
    "print(cities[\"Dehli\"])"
   ]
  },
  {
   "cell_type": "code",
   "execution_count": 3,
   "metadata": {},
   "outputs": [
    {
     "name": "stdout",
     "output_type": "stream",
     "text": [
      "\n",
      "Enter your age or 'q' to stop asking :99\n",
      "Your ticket is $15 !\n",
      "\n",
      "Enter your age or 'q' to stop asking :98\n",
      "Your ticket is $15 !\n",
      "\n",
      "Enter your age or 'q' to stop asking :90\n",
      "Your ticket is $15 !\n",
      "\n",
      "Enter your age or 'q' to stop asking :q\n"
     ]
    }
   ],
   "source": [
    "flag = True\n",
    "while flag:\n",
    "    age = input(\"\\nEnter your age or 'q' to stop asking :\")\n",
    "    \n",
    "    if age.lower() == 'q':\n",
    "        flag = False\n",
    "    else:\n",
    "        int_age = int(age)\n",
    "        if int_age < 3:\n",
    "            print(\"Your ticket is free !\")\n",
    "        elif int_age >=3 and int_age <=12:\n",
    "            print(\"Your ticket is $10 !\")\n",
    "        elif int_age > 12:\n",
    "            print(\"Your ticket is $15 !\")"
   ]
  },
  {
   "cell_type": "code",
   "execution_count": 4,
   "metadata": {},
   "outputs": [
    {
     "name": "stdout",
     "output_type": "stream",
     "text": [
      "One of my favorite books is 'Alice in Wonderland'.\n",
      "One of my favorite books is 'You can win '.\n"
     ]
    }
   ],
   "source": [
    "\n",
    "def favorite_book(title):\n",
    "    print(f\"One of my favorite books is '{title}'.\")\n",
    "    \n",
    "favorite_book(\"Alice in Wonderland\")\n",
    "favorite_book(\"You can win \")"
   ]
  },
  {
   "cell_type": "code",
   "execution_count": 5,
   "metadata": {},
   "outputs": [
    {
     "name": "stdout",
     "output_type": "stream",
     "text": [
      "\n",
      "\tYou have 3 chances to guess the hidden number (from 1 to 30): 90\n",
      "\tYour guess is greater than the hidden number !\n",
      "\n",
      "\tYou have 2 chances to guess the hidden number (from 1 to 30): 8\n",
      "\tYour guess is less than the hidden number !\n",
      "\n",
      "\tYou have 1 chances to guess the hidden number (from 1 to 30): 1\n",
      "\tYour guess is less than the hidden number !\n",
      "\n",
      "\tYou Lost ! :(  Hidden Number was 22\n"
     ]
    }
   ],
   "source": [
    "import random as rd\n",
    "i = 3\n",
    "while i > 0:\n",
    "    correct_num = rd.randint(1,30)\n",
    "    user_num = int(input(f\"\\n\\tYou have {i} chances to guess the hidden number (from 1 to 30): \"))\n",
    "    \n",
    "    if user_num == correct_num:\n",
    "        print(\"\\t***Congrats ! Correct Guess, You Won*** :)\")\n",
    "        break\n",
    "    elif user_num > correct_num:\n",
    "        print(\"\\tYour guess is greater than the hidden number !\")\n",
    "        i -= 1\n",
    "    elif user_num < correct_num:\n",
    "        print(\"\\tYour guess is less than the hidden number !\")\n",
    "        i-=1\n",
    "    elif user_num < 1 or user_num > 30:\n",
    "        print(\"\\tPlease enter number in range 1 to 30 !\")\n",
    "        \n",
    "if i == 0:\n",
    "    print(f\"\\n\\tYou Lost ! :(  Hidden Number was {correct_num}\")\n"
   ]
  },
  {
   "cell_type": "code",
   "execution_count": null,
   "metadata": {},
   "outputs": [],
   "source": []
  }
 ],
 "metadata": {
  "kernelspec": {
   "display_name": "Python 3",
   "language": "python",
   "name": "python3"
  },
  "language_info": {
   "codemirror_mode": {
    "name": "ipython",
    "version": 3
   },
   "file_extension": ".py",
   "mimetype": "text/x-python",
   "name": "python",
   "nbconvert_exporter": "python",
   "pygments_lexer": "ipython3",
   "version": "3.7.4"
  }
 },
 "nbformat": 4,
 "nbformat_minor": 2
}
